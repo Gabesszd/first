{
 "cells": [
  {
   "cell_type": "code",
   "execution_count": null,
   "id": "b93d4915-f353-432f-a73d-db3a375bee25",
   "metadata": {},
   "outputs": [],
   "source": [
    "# Data Science Tools and Ecosystem"
   ]
  },
  {
   "cell_type": "code",
   "execution_count": null,
   "id": "7e755a5f-5f21-42e9-b4ff-052f450e6fb8",
   "metadata": {},
   "outputs": [],
   "source": [
    "In this notebook, Data Science Tools and Ecosystem are summarized."
   ]
  },
  {
   "cell_type": "code",
   "execution_count": null,
   "id": "dddc79ce-1a06-4dc9-9f1a-c7553928d9d9",
   "metadata": {
    "tags": []
   },
   "outputs": [],
   "source": [
    "Some of the popular languages that Data Scientists use are:\n",
    "1. R\n",
    "2. Python\n",
    "3. Scala"
   ]
  },
  {
   "cell_type": "code",
   "execution_count": null,
   "id": "a5af61d3-2faf-422d-907b-8418b3bd46d8",
   "metadata": {},
   "outputs": [],
   "source": [
    "**Objectives**\n",
    "+ R\n",
    "+ Python\n",
    "+ Scala"
   ]
  },
  {
   "cell_type": "code",
   "execution_count": null,
   "id": "0b042d9c-f9cc-44bd-a2d5-62bca8f93934",
   "metadata": {},
   "outputs": [],
   "source": [
    "Some of the commonly used libraries used by Data Scientists include:\n",
    "1. Matplotlib\n",
    "2. NumPy\n",
    "3. Pandas"
   ]
  },
  {
   "cell_type": "code",
   "execution_count": null,
   "id": "71e27c6a-1b17-45e1-bd88-713b5aab7304",
   "metadata": {},
   "outputs": [],
   "source": [
    "| Data Science Tools |\n",
    "|--------------------|\n",
    "| Jupyter            |\n",
    "| RStudio            |\n",
    "| Spyder             | "
   ]
  },
  {
   "cell_type": "code",
   "execution_count": null,
   "id": "e208d929-33e8-448b-84d3-d2ace7d0af5e",
   "metadata": {},
   "outputs": [],
   "source": [
    "### Below are a few examples of evaluating arithmetic expressions in Python"
   ]
  },
  {
   "cell_type": "code",
   "execution_count": 3,
   "id": "c16670bd-1f21-45e8-88b1-56bf07f09ab9",
   "metadata": {},
   "outputs": [
    {
     "data": {
      "text/plain": [
       "17"
      ]
     },
     "execution_count": 3,
     "metadata": {},
     "output_type": "execute_result"
    }
   ],
   "source": [
    "(3*4)+5 # This a simple arithmetic expression to mutiply then add integers."
   ]
  },
  {
   "cell_type": "code",
   "execution_count": 6,
   "id": "41b0a43e-9737-4fca-adc2-f7f304c612a7",
   "metadata": {},
   "outputs": [
    {
     "name": "stdout",
     "output_type": "stream",
     "text": [
      "3.3333333333333335\n"
     ]
    }
   ],
   "source": [
    "minutes = 200\n",
    "hours = minutes / 60\n",
    "print(hours)"
   ]
  },
  {
   "cell_type": "code",
   "execution_count": null,
   "id": "700adcdd-eaeb-4edf-8bb8-2cb5e9a803b0",
   "metadata": {},
   "outputs": [],
   "source": [
    "## Author\n",
    "name"
   ]
  }
 ],
 "metadata": {
  "kernelspec": {
   "display_name": "Python 3 (ipykernel)",
   "language": "python",
   "name": "python3"
  },
  "language_info": {
   "codemirror_mode": {
    "name": "ipython",
    "version": 3
   },
   "file_extension": ".py",
   "mimetype": "text/x-python",
   "name": "python",
   "nbconvert_exporter": "python",
   "pygments_lexer": "ipython3",
   "version": "3.9.7"
  }
 },
 "nbformat": 4,
 "nbformat_minor": 5
}
